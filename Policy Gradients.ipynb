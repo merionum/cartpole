{
  "nbformat": 4,
  "nbformat_minor": 0,
  "metadata": {
    "accelerator": "GPU",
    "colab": {
      "name": "REINFORCE.ipynb",
      "provenance": [],
      "collapsed_sections": []
    },
    "kernelspec": {
      "name": "python3",
      "display_name": "Python 3"
    },
    "language_info": {
      "codemirror_mode": {
        "name": "ipython",
        "version": 3
      },
      "file_extension": ".py",
      "mimetype": "text/x-python",
      "name": "python",
      "nbconvert_exporter": "python",
      "pygments_lexer": "ipython3",
      "version": "3.7.3"
    }
  },
  "cells": [
    {
      "cell_type": "markdown",
      "metadata": {
        "colab_type": "text",
        "id": "AbwmoJusmueU"
      },
      "source": [
        "# Reinforcement Learning\n",
        "\n",
        "## Cartpole solution with policy gradient"
      ]
    },
    {
      "cell_type": "markdown",
      "metadata": {
        "colab_type": "text",
        "id": "4HoHMD_GmueZ"
      },
      "source": [
        "Установим и импортируем необходимые библиотеки, а также вспомогательные функции для визуализации игры агента."
      ]
    },
    {
      "cell_type": "code",
      "metadata": {
        "colab_type": "code",
        "id": "kHKfskxa7kaI",
        "colab": {}
      },
      "source": [
        "!pip install gym pandas torch matplotlib pyvirtualdisplay > /dev/null 2>&1\n",
        "!apt-get install -y xvfb python-opengl ffmpeg x11-utils > /dev/null 2>&1"
      ],
      "execution_count": 0,
      "outputs": []
    },
    {
      "cell_type": "code",
      "metadata": {
        "colab_type": "code",
        "id": "WiX0JVM3z0Ru",
        "colab": {}
      },
      "source": [
        "from IPython.display import clear_output, HTML\n",
        "from IPython import display as ipythondisplay\n",
        "import matplotlib.pyplot as plt\n",
        "%matplotlib inline"
      ],
      "execution_count": 0,
      "outputs": []
    },
    {
      "cell_type": "code",
      "metadata": {
        "colab_type": "code",
        "id": "IsjSHknYl1rj",
        "colab": {}
      },
      "source": [
        "import numpy as np\n",
        "import glob\n",
        "import time\n",
        "import io\n",
        "import base64\n",
        "import gym\n",
        "from gym.wrappers import Monitor\n",
        "import torch\n",
        "import collections\n",
        "import pandas as pd\n",
        "from torch import nn\n",
        "import torch.nn.functional as F\n",
        "from torch.optim import Adam\n",
        "from torch.distributions import Categorical"
      ],
      "execution_count": 0,
      "outputs": []
    },
    {
      "cell_type": "code",
      "metadata": {
        "colab_type": "code",
        "id": "b5KfVGq1n_8s",
        "outputId": "26816538-db1d-49bf-d5c7-629cc2a3966f",
        "colab": {
          "base_uri": "https://localhost:8080/",
          "height": 54
        }
      },
      "source": [
        "from pyvirtualdisplay import Display\n",
        "display = Display(visible=0, size=(1400, 900))\n",
        "display.start()"
      ],
      "execution_count": 0,
      "outputs": [
        {
          "output_type": "execute_result",
          "data": {
            "text/plain": [
              "<Display cmd_param=['Xvfb', '-br', '-nolisten', 'tcp', '-screen', '0', '1400x900x24', ':1001'] cmd=['Xvfb', '-br', '-nolisten', 'tcp', '-screen', '0', '1400x900x24', ':1001'] oserror=None return_code=None stdout=\"None\" stderr=\"None\" timeout_happened=False>"
            ]
          },
          "metadata": {
            "tags": []
          },
          "execution_count": 4
        }
      ]
    },
    {
      "cell_type": "code",
      "metadata": {
        "colab_type": "code",
        "id": "4xGh4QxDnlFw",
        "colab": {}
      },
      "source": [
        "\"\"\"\n",
        "Utility functions to enable video recording of gym environment and displaying it\n",
        "To enable video, just do \"env = wrap_env(env)\"\"\n",
        "\"\"\"\n",
        "\n",
        "def show_video():\n",
        "    mp4list = glob.glob('video/*.mp4')\n",
        "    if len(mp4list) > 0:\n",
        "        mp4 = mp4list[0]\n",
        "        video = io.open(mp4, 'r+b').read()\n",
        "        encoded = base64.b64encode(video)\n",
        "        ipythondisplay.display(HTML(data='''<video alt=\"test\" autoplay \n",
        "                loop controls style=\"height: 400px;\">\n",
        "                <source src=\"data:video/mp4;base64,{0}\" type=\"video/mp4\" />\n",
        "             </video>'''.format(encoded.decode('ascii'))))\n",
        "    else: \n",
        "        print(\"Could not find video\")\n",
        "    \n",
        "\n",
        "def wrap_env(env):\n",
        "    env = Monitor(env, './video', force=True)\n",
        "    return env"
      ],
      "execution_count": 0,
      "outputs": []
    },
    {
      "cell_type": "code",
      "metadata": {
        "colab_type": "code",
        "id": "Dfi89tXjmuet",
        "colab": {}
      },
      "source": [
        "device = torch.device('cuda:0' if torch.cuda.is_available() else 'cpu') #позволяет перенести тензор на GPU, если он доступен в системе"
      ],
      "execution_count": 0,
      "outputs": []
    },
    {
      "cell_type": "markdown",
      "metadata": {
        "colab_type": "text",
        "id": "AhDVTPxymuez"
      },
      "source": [
        "## OpenAI Gym"
      ]
    },
    {
      "cell_type": "code",
      "metadata": {
        "colab_type": "code",
        "id": "b9BRqxoDmue7",
        "outputId": "14414186-1334-4a47-f159-2b47883253bb",
        "colab": {
          "base_uri": "https://localhost:8080/",
          "height": 662
        }
      },
      "source": [
        "env = gym.make(\"CartPole-v0\")\n",
        "print(env.env.__doc__)"
      ],
      "execution_count": 0,
      "outputs": [
        {
          "output_type": "stream",
          "text": [
            "\n",
            "    Description:\n",
            "        A pole is attached by an un-actuated joint to a cart, which moves along a frictionless track. The pendulum starts upright, and the goal is to prevent it from falling over by increasing and reducing the cart's velocity.\n",
            "\n",
            "    Source:\n",
            "        This environment corresponds to the version of the cart-pole problem described by Barto, Sutton, and Anderson\n",
            "\n",
            "    Observation: \n",
            "        Type: Box(4)\n",
            "        Num\tObservation                 Min         Max\n",
            "        0\tCart Position             -4.8            4.8\n",
            "        1\tCart Velocity             -Inf            Inf\n",
            "        2\tPole Angle                 -24 deg        24 deg\n",
            "        3\tPole Velocity At Tip      -Inf            Inf\n",
            "        \n",
            "    Actions:\n",
            "        Type: Discrete(2)\n",
            "        Num\tAction\n",
            "        0\tPush cart to the left\n",
            "        1\tPush cart to the right\n",
            "        \n",
            "        Note: The amount the velocity that is reduced or increased is not fixed; it depends on the angle the pole is pointing. This is because the center of gravity of the pole increases the amount of energy needed to move the cart underneath it\n",
            "\n",
            "    Reward:\n",
            "        Reward is 1 for every step taken, including the termination step\n",
            "\n",
            "    Starting State:\n",
            "        All observations are assigned a uniform random value in [-0.05..0.05]\n",
            "\n",
            "    Episode Termination:\n",
            "        Pole Angle is more than 12 degrees\n",
            "        Cart Position is more than 2.4 (center of the cart reaches the edge of the display)\n",
            "        Episode length is greater than 200\n",
            "        Solved Requirements\n",
            "        Considered solved when the average reward is greater than or equal to 195.0 over 100 consecutive trials.\n",
            "    \n"
          ],
          "name": "stdout"
        }
      ]
    },
    {
      "cell_type": "code",
      "metadata": {
        "colab_type": "code",
        "id": "0jXEOwd7njUm",
        "colab": {}
      },
      "source": [
        "def test_agent(env, agent=None, n_episodes=100):\n",
        "    \"\"\"Runs agent for n_episodes in environment and calclates mean reward.\n",
        "    \n",
        "    Args:\n",
        "        env: The environment for agent to play in\n",
        "        agent: The agent to play with. Defaults to None - \n",
        "            in this case random agent is used.\n",
        "        n_episodes: Number of episodes to play. Defaults to 100.\n",
        "\n",
        "    Returns:\n",
        "        Mean reward for 100 episodes.\n",
        "    \"\"\"\n",
        "    total_reward = []\n",
        "    for episode in range(n_episodes):\n",
        "        episode_reward = 0\n",
        "        observation = env.reset()\n",
        "        t = 0\n",
        "        while True:\n",
        "            if agent:\n",
        "                with torch.no_grad():\n",
        "                    probs = agent(torch.FloatTensor(observation).to(device))\n",
        "                    dist = Categorical(probs)\n",
        "                    action = dist.sample().item()\n",
        "            else:\n",
        "                action = env.action_space.sample()\n",
        "            observation, reward, done, info = env.step(action)\n",
        "            episode_reward += reward\n",
        "            t += 1\n",
        "            if done:\n",
        "                print(\"Episode {} finished after {} timesteps\".format(episode+1, t+1))\n",
        "                break\n",
        "        total_reward.append(episode_reward)\n",
        "        env.close()\n",
        "                   \n",
        "    return np.mean(total_reward)"
      ],
      "execution_count": 0,
      "outputs": []
    },
    {
      "cell_type": "code",
      "metadata": {
        "colab_type": "code",
        "id": "yqVokBDFmufM",
        "scrolled": true,
        "outputId": "4a4b228f-e7c7-42b2-e6d7-43de34884d64",
        "colab": {
          "base_uri": "https://localhost:8080/",
          "height": 208
        }
      },
      "source": [
        "test_agent(env, agent=False, n_episodes=10)"
      ],
      "execution_count": 0,
      "outputs": [
        {
          "output_type": "stream",
          "text": [
            "Episode 1 finished after 22 timesteps\n",
            "Episode 2 finished after 31 timesteps\n",
            "Episode 3 finished after 29 timesteps\n",
            "Episode 4 finished after 12 timesteps\n",
            "Episode 5 finished after 30 timesteps\n",
            "Episode 6 finished after 19 timesteps\n",
            "Episode 7 finished after 14 timesteps\n",
            "Episode 8 finished after 18 timesteps\n",
            "Episode 9 finished after 21 timesteps\n",
            "Episode 10 finished after 59 timesteps\n"
          ],
          "name": "stdout"
        },
        {
          "output_type": "execute_result",
          "data": {
            "text/plain": [
              "24.5"
            ]
          },
          "metadata": {
            "tags": []
          },
          "execution_count": 9
        }
      ]
    },
    {
      "cell_type": "code",
      "metadata": {
        "colab_type": "code",
        "id": "GgThoRPgoMcs",
        "colab": {}
      },
      "source": [
        "def agent_viz(env=\"CartPole-v0\", agent=None):\n",
        "    \"\"\"Visualizes agent play in the given environment.\n",
        "    \n",
        "    Args:\n",
        "        env: The environment for agent to play in. Defaults to CartPole-v0.\n",
        "        agent: The agent to play with. Defaults to None - \n",
        "            in this case random agent is used.\n",
        "\n",
        "    Returns:\n",
        "        Nothing is returned. Visualization is created and can be showed\n",
        "            with show_video() function.\n",
        "    \"\"\"\n",
        "    env = wrap_env(gym.make(env))\n",
        "    observation = env.reset()\n",
        "    while True:\n",
        "        env.render() \n",
        "        if agent:\n",
        "            with torch.no_grad():\n",
        "                probs = agent(torch.FloatTensor(observation).to(device))\n",
        "                dist = Categorical(probs)\n",
        "                action = dist.sample().item()\n",
        "        else:\n",
        "            action = env.action_space.sample()\n",
        "        observation, reward, done, info = env.step(action)\n",
        "        if done:\n",
        "            break\n",
        "            \n",
        "    env.close()"
      ],
      "execution_count": 0,
      "outputs": []
    },
    {
      "cell_type": "code",
      "metadata": {
        "colab_type": "code",
        "id": "b5FLllE_pHSf",
        "outputId": "0d51fb98-4937-46ea-80f3-9654b18f4e48",
        "colab": {
          "base_uri": "https://localhost:8080/",
          "height": 421
        }
      },
      "source": [
        "agent_viz()\n",
        "show_video()"
      ],
      "execution_count": 0,
      "outputs": [
        {
          "output_type": "display_data",
          "data": {
            "text/html": [
              "<video alt=\"test\" autoplay \n",
              "                loop controls style=\"height: 400px;\">\n",
              "                <source src=\"data:video/mp4;base64,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\" type=\"video/mp4\" />\n",
              "             </video>"
            ],
            "text/plain": [
              "<IPython.core.display.HTML object>"
            ]
          },
          "metadata": {
            "tags": []
          }
        }
      ]
    },
    {
      "cell_type": "markdown",
      "metadata": {
        "colab_type": "text",
        "id": "M2SkO__WmufX"
      },
      "source": [
        "## REINFORCE"
      ]
    },
    {
      "cell_type": "markdown",
      "metadata": {
        "colab_type": "text",
        "id": "QW95huRpmufY"
      },
      "source": [
        "<img src=\"//i.imgur.com/bnASTrY.png\" width=\"700\">"
      ]
    },
    {
      "cell_type": "markdown",
      "metadata": {
        "colab_type": "text",
        "id": "CFD7oH9mmufZ"
      },
      "source": [
        "1. Инициализуем политику (в качестве политики мы будем использовать глубокую нейронную сеть).\n",
        "2. \"Играем\" в среде эпизод, используя нашу политику, или несколько (мы будем использовать последний вариант) и собираем данные о состояниях, действиях и полученных наградах. \n",
        "3. Для каждого состояния в собранных эпизодах вычисляем сумму дисконтированных наград, полученных из этого состояния, а также логорифм правдоподобия предпринятого действия в этом состоянии для нашей политики.\n",
        "4. Обновляем параметры нашей политики по формуле на схеме."
      ]
    },
    {
      "cell_type": "markdown",
      "metadata": {
        "colab_type": "text",
        "id": "Zjhox1Rdmufa"
      },
      "source": [
        "### Политика"
      ]
    },
    {
      "cell_type": "markdown",
      "metadata": {
        "colab_type": "text",
        "id": "v5KOdiJrmufb"
      },
      "source": [
        "Политика должна принимать на вход состояние среды, а на выходе выдавать распределение по действиям, которые мы можем осуществлять в среде.\n"
      ]
    },
    {
      "cell_type": "code",
      "metadata": {
        "colab_type": "code",
        "id": "Dq85BtOQs52q",
        "colab": {}
      },
      "source": [
        "class Policy(nn.Module):\n",
        "    \"\"\"Policy to be used by agent.\n",
        "\n",
        "    Attributes\n",
        "    \n",
        "    state_size: Dimention of the state space of the environment.\n",
        "    act_size: Dimention of the action space of the environment.\n",
        "    hidden_size: Dimention of the hidden state of the agent's policy.\n",
        "    \"\"\"\n",
        "    def __init__(self, state_size, act_size, hidden_size):\n",
        "        super(Policy, self).__init__()\n",
        "        self.fc_1 = nn.Linear(state_size, hidden_size, bias=False)\n",
        "        self.fc_2 = nn.Linear(hidden_size, act_size, bias=False)\n",
        "\n",
        "\n",
        "    def forward(self, x):\n",
        "        x = F.relu(self.fc_1(x))\n",
        "        x = F.softmax(self.fc_2(x))\n",
        "        return x\n"
      ],
      "execution_count": 0,
      "outputs": []
    },
    {
      "cell_type": "markdown",
      "metadata": {
        "colab_type": "text",
        "id": "E0bYNhJ_mufh"
      },
      "source": [
        "### Оценка правдоподобия и расчет суммы дисконтированных наград\n"
      ]
    },
    {
      "cell_type": "code",
      "metadata": {
        "colab_type": "code",
        "id": "eGHfushNmufl",
        "colab": {}
      },
      "source": [
        "def process_traj_batch(policy, batch, discount):\n",
        "    \"\"\"Computes log probabilities for each action \n",
        "        and rewards-to-go for each state in the batch of trajectories.\n",
        "    \n",
        "    Args:\n",
        "        policy: Policy of the agent.\n",
        "        batch (list of list of collections.namedtuple): Batch of trajectories.\n",
        "        discount (float): Discount factor for rewards-to-go calculation.\n",
        "\n",
        "    Returns:\n",
        "        log_probs (list of torch.FloatTensor): List of log probabilities for\n",
        "            each action in the batch of trajectories.\n",
        "        returns (list of rewards-to-go): List of rewards-to-go for \n",
        "            each state in the batch of trajectories.\n",
        "    \"\"\"\n",
        "    policy = policy.to(device)\n",
        "    log_probs = []\n",
        "    returns = []\n",
        "    \n",
        "    for i in range(len(batch)):\n",
        "        for j in range(len(batch[i])):\n",
        "            # calc log prob\n",
        "            cur_state, cur_action = batch[i][j].state, batch[i][j].action\n",
        "            cur_state = torch.FloatTensor(cur_state).to(device)\n",
        "            prob_act = torch.log(policy(cur_state)[cur_action])\n",
        "            log_probs.append(prob_act)\n",
        "\n",
        "            # calc reward-to-go\n",
        "            rollout_rewards = [transition.reward for transition in batch[i][j:]]\n",
        "            r_n = 0\n",
        "            for r in range(len(rollout_rewards)):\n",
        "                if r == 0:\n",
        "                    r_n += rollout_rewards[r]\n",
        "                else:\n",
        "                    r_n += discount**r*rollout_rewards[r]\n",
        "            returns.append(r_n)\n",
        "\n",
        "    return log_probs, returns"
      ],
      "execution_count": 0,
      "outputs": []
    },
    {
      "cell_type": "code",
      "metadata": {
        "colab_type": "code",
        "id": "tHgXs9aPmuf2",
        "colab": {}
      },
      "source": [
        "moving_average = lambda x, **kw: pd.DataFrame({'x':np.asarray(x)}).x.ewm(**kw).mean().values"
      ],
      "execution_count": 0,
      "outputs": []
    },
    {
      "cell_type": "code",
      "metadata": {
        "colab_type": "code",
        "id": "cFSLjGjOms0m",
        "colab": {}
      },
      "source": [
        "STATE_SIZE  = env.observation_space.shape[0] # размерность пространства состояний среды\n",
        "ACT_SIZE = env.action_space.n # размерность пространства действий среды\n",
        "HIDDEN_SIZE = 256 # размер скрытого слоя для политики\n",
        "NUM_EPISODES = 200 # количество эпиздов, которые будут сыграны для обучения\n",
        "DISCOUNT = 0.99 # фактор дисконтирования\n",
        "TRAIN_EVERY = 40"
      ],
      "execution_count": 0,
      "outputs": []
    },
    {
      "cell_type": "code",
      "metadata": {
        "colab_type": "code",
        "id": "zEKqg4Ykmuf_",
        "colab": {}
      },
      "source": [
        "policy = Policy(STATE_SIZE, ACT_SIZE, HIDDEN_SIZE).to(device)\n",
        "optimizer = Adam(policy.parameters())"
      ],
      "execution_count": 0,
      "outputs": []
    },
    {
      "cell_type": "code",
      "metadata": {
        "colab_type": "code",
        "id": "EIbRMh3MmugC",
        "colab": {}
      },
      "source": [
        "transition = collections.namedtuple(\"transition\", [\"state\", \"action\", \"reward\"])"
      ],
      "execution_count": 0,
      "outputs": []
    },
    {
      "cell_type": "markdown",
      "metadata": {
        "colab_type": "text",
        "id": "jRRCJTnimugE"
      },
      "source": [
        "### Основной цикл обучения\n"
      ]
    },
    {
      "cell_type": "markdown",
      "metadata": {
        "colab_type": "text",
        "id": "1wih2vIYmugG"
      },
      "source": [
        "1. Играем количество эпизодов, определенное в гиперпараметре ```NUM_EPISODES```.\n",
        "2. В каждом эпизоде сохраняем информацию о шагах на траектории - состояние, действие и награду.\n",
        "3. В конце каждого эпизода сохраняем вышеуказанную информацию о траектории. \n",
        "4. Периодически обучаемся на собранных эпизодах каждые ```TRAIN_EVERY``` эпизодов:  \n",
        "    4.1. Считаем для собранного батча для каждого шага на трактории правдоподобие и сумму дисконтированных наград.  \n",
        "    4.2. Обновляем параметры политики агента по формуле, приведенной на схеме."
      ]
    },
    {
      "cell_type": "code",
      "metadata": {
        "colab_type": "code",
        "id": "cvEwjezan5tl",
        "outputId": "be45916b-1dd5-4624-bf76-23316e30debe",
        "colab": {
          "base_uri": "https://localhost:8080/",
          "height": 390
        }
      },
      "source": [
        "returns_history = []\n",
        "traj_batch = []\n",
        "\n",
        "for i in range(NUM_EPISODES):\n",
        "\n",
        "    state = env.reset()\n",
        "    rewards = 0\n",
        "    traj = []\n",
        "    while True:\n",
        "\n",
        "        transition = collections.namedtuple(\"transition\", [\"state\", \"action\", \"reward\"])\n",
        "        transition.state = state\n",
        "\n",
        "        probs = policy(torch.FloatTensor(state).to(device))\n",
        "        dist = Categorical(probs)\n",
        "        action = dist.sample()\n",
        "        transition.action = action\n",
        "\n",
        "        state, reward, done, info = env.step(action.item())\n",
        "        transition.reward = reward\n",
        "\n",
        "        rewards += reward\n",
        "\n",
        "        traj.append(transition)\n",
        "\n",
        "        if done:\n",
        "            break\n",
        "    env.close()\n",
        "\n",
        "    returns_history.append(rewards)\n",
        "    traj_batch.append(traj)\n",
        "\n",
        "    if i % TRAIN_EVERY:\n",
        "        log_probs, returns = process_traj_batch(policy, traj_batch, DISCOUNT)\n",
        "        loss = -(torch.stack(log_probs) * torch.FloatTensor(returns).to(device)).sum()\n",
        "        optimizer.zero_grad()\n",
        "        loss.backward()\n",
        "        optimizer.step()\n",
        "        \n",
        "        traj_batch = []\n",
        "\n",
        "    if i % 20:\n",
        "        clear_output(True)\n",
        "        plt.figure(figsize=[12, 6])\n",
        "        plt.title('Returns'); plt.grid()\n",
        "        plt.scatter(np.arange(len(returns_history)), returns_history, alpha=0.1)\n",
        "        ma = moving_average(returns_history, span=10, min_periods=10)\n",
        "        plt.plot(ma)\n",
        "        plt.show()\n",
        "    if np.mean(returns_history[-10:]) >= env.spec.reward_threshold:\n",
        "        break"
      ],
      "execution_count": 0,
      "outputs": [
        {
          "output_type": "display_data",
          "data": {
            "image/png": "[encoded data removed]",
            "text/plain": [
              "<Figure size 864x432 with 1 Axes>"
            ]
          },
          "metadata": {
            "tags": []
          }
        }
      ]
    },
    {
      "cell_type": "markdown",
      "metadata": {
        "colab_type": "text",
        "id": "Be9Zh-MamugN"
      },
      "source": [
        "Протестируем обученного агента."
      ]
    },
    {
      "cell_type": "code",
      "metadata": {
        "colab_type": "code",
        "id": "-ry9g_aBmugO",
        "outputId": "4f6e5cb2-e27f-4a47-bc2c-7c65209cccaa",
        "colab": {
          "base_uri": "https://localhost:8080/",
          "height": 245
        }
      },
      "source": [
        "test_agent(env, agent=policy, n_episodes=10)"
      ],
      "execution_count": 0,
      "outputs": [
        {
          "output_type": "stream",
          "text": [
            "/usr/local/lib/python3.6/dist-packages/ipykernel_launcher.py:18: UserWarning: Implicit dimension choice for softmax has been deprecated. Change the call to include dim=X as an argument.\n"
          ],
          "name": "stderr"
        },
        {
          "output_type": "stream",
          "text": [
            "Episode 1 finished after 156 timesteps\n",
            "Episode 2 finished after 201 timesteps\n",
            "Episode 3 finished after 201 timesteps\n",
            "Episode 4 finished after 188 timesteps\n",
            "Episode 5 finished after 185 timesteps\n",
            "Episode 6 finished after 201 timesteps\n",
            "Episode 7 finished after 201 timesteps\n",
            "Episode 8 finished after 201 timesteps\n",
            "Episode 9 finished after 201 timesteps\n",
            "Episode 10 finished after 201 timesteps\n"
          ],
          "name": "stdout"
        },
        {
          "output_type": "execute_result",
          "data": {
            "text/plain": [
              "192.6"
            ]
          },
          "metadata": {
            "tags": []
          },
          "execution_count": 31
        }
      ]
    },
    {
      "cell_type": "code",
      "metadata": {
        "colab_type": "code",
        "id": "c6QvXvwUsct6",
        "outputId": "bfd81fd4-2bc2-4a15-cd82-329cff608ffe",
        "colab": {
          "base_uri": "https://localhost:8080/",
          "height": 458
        }
      },
      "source": [
        "agent_viz(agent=policy)\n",
        "show_video()"
      ],
      "execution_count": 0,
      "outputs": [
        {
          "output_type": "stream",
          "text": [
            "/usr/local/lib/python3.6/dist-packages/ipykernel_launcher.py:18: UserWarning: Implicit dimension choice for softmax has been deprecated. Change the call to include dim=X as an argument.\n"
          ],
          "name": "stderr"
        },
        {
          "output_type": "display_data",
          "data": {
            "text/html": [
              "<video alt=\"test\" autoplay \n",
              "                loop controls style=\"height: 400px;\">\n",
              "                <source src=\"data:video/mp4;base64,AAAAIGZ0eXBpc29tAAACAGlzb21pc28yYXZjMW1wNDEAAAAIZnJlZQAAOF5tZGF0AAACrgYF//+q3EXpvebZSLeWLNgg2SPu73gyNjQgLSBjb3JlIDE1MiByMjg1NCBlOWE1OTAzIC0gSC4yNjQvTVBFRy00IEFWQyBjb2RlYyAtIENvcHlsZWZ0IDIwMDMtMjAxNyAtIGh0dHA6Ly93d3cudmlkZW9sYW4ub3JnL3gyNjQuaHRtbCAtIG9wdGlvbnM6IGNhYmFjPTEgcmVmPTMgZGVibG9jaz0xOjA6MCBhbmFseXNlPTB4MzoweDExMyBtZT1oZXggc3VibWU9NyBwc3k9MSBwc3lfcmQ9MS4wMDowLjAwIG1peGVkX3JlZj0xIG1lX3JhbmdlPTE2IGNocm9tYV9tZT0xIHRyZWxsaXM9MSA4eDhkY3Q9MSBjcW09MCBkZWFkem9uZT0yMSwxMSBmYXN0X3Bza2lwPTEgY2hyb21hX3FwX29mZnNldD0tMiB0aHJlYWRzPTMgbG9va2FoZWFkX3RocmVhZHM9MSBzbGljZWRfdGhyZWFkcz0wIG5yPTAgZGVjaW1hdGU9MSBpbnRlcmxhY2VkPTAgYmx1cmF5X2NvbXBhdD0wIGNvbnN0cmFpbmVkX2ludHJhPTAgYmZyYW1lcz0zIGJfcHlyYW1pZD0yIGJfYWRhcHQ9MSBiX2JpYXM9MCBkaXJlY3Q9MSB3ZWlnaHRiPTEgb3Blbl9nb3A9MCB3ZWlnaHRwPTIga2V5aW50PTI1MCBrZXlpbnRfbWluPTI1IHNjZW5lY3V0PTQwIGludHJhX3JlZnJlc2g9MCByY19sb29rYWhlYWQ9NDAgcmM9Y3JmIG1idHJlZT0xIGNyZj0yMy4wIHFjb21wPTAuNjAgcXBtaW49MCBxcG1heD02OSBxcHN0ZXA9NCBpcF9yYXRpbz0xLjQwIGFxPTE6MS4wMACAAAAB1WWIhAAz//727L4FNf2f0JcRLMXaSnA+KqSAgHc0wAAAAwAAAwAAFgn0I7DkqgN3QAAAHGAFBCwCPCVC2EhIBqXCCI6+B1jAFIh8ycBfuC7YnVGOgvPVXahr9MTfgA5r2bFGQQ8QPc3zlC5w4ZOmZaGqtBbjNNZ4aKrba0R27IJeskCwr796a6AuVItmyG/dfqCswsTNZFE7IGEb5gR7LRUESpBNkTFAAG+MAAIeVvRXn7DEJfetgkwABMhN0nXFP+DnJdXA7YjDQtEBLSpYyvu96WAn6T/qTre2uZkj+cYp7KdXpxnDGYtHJAx9cOF52MK3f74C2H4OwFNbwBKzhgnYe3Zb/Pa4oCG9thbNyBJXEWnehCKAmWjgyW/yysJPx/HTbQD6mD/gJu1usTS13WSPUTASkHPphp59sAoFbDkcdZagVWLeGeVQvM+gZTdWFsU+DwfE2BMbpDnFekHvX/lH5P5vpTZMbx6uh4tQrEHeee4RdwYEp54c/hKbkUKHmc7TgCj0vDSnedFmty6cwAAAJUkq1jUzmDcso6grgkMU12Aet9HaKCeyc37k5F3ydnNT2vzJy0fsFRRJsXKclwRNHmFjg3ABbDsAAAMAAAMAAAMAB6UAAACxQZokbEM//p4QAABFXcGRK13bPy6Pr6huL66ASUGkPUnFnUDY0hShgHiFM4wCk//fqJ3nbUBJtO3/oSjJ/CmtPVFBkKQJwbRnsHaKnKMfrPgMx/OaKh23ycqzjIMuZKDc4ECBFLSQMlH/Y/0BjGH4Uvl8wRJciJLA6SKcq1/1hB2LvC6IKkEbp2ueisizUyRWgTJ83+gmwXzJxw1aAAaNwkR6Z7v+Vg/7U8yaZFzw2wkYAAAAP0GeQniEfwAAFr5MoiAB0BxPQx+dTQTpl24I6vEbJBuIdqAwAAADABIw3Jba4XU5iPkoWwaVEsCcutqmWABDwQAAAEgBnmF0R/8AACKsPSLMcyFq2ACR1ZmwnMTwL+X8ZeDT4dG1SPhmtS2aKENAAAADAMR+kMrvtTe8F0JNBIQue8I7pxXtUywAK2AAAAAiAZ5jakf/AAAjx7+M8ByiabHfiO6h28cAAAMAABIo7LAsoQAAAFJBmmhJqEFomUwIX//+jLAAAEYUdMhQQUqreZdG5NZgmEGaKEat8RT4bX4qAG5KoedBDSaoTE9QabkFmhNRhqy1+LwQ5WEDUvfYAhKZ/FzVC8O7AAAAMUGehkURLCP/AAAWtSs3a1peuLYtiGab5eE/ljADPIrtKY0wAAADAAAE0uNlhJPCBJ0AAAAsAZ6ldEf/AAAjwyCY11vJ6PPAJCEQQuyKgA/aAt6JT3BBOMHakAAA223LA/0AAAAxAZ6nakf/AAADALomAX4AyABdRKz3SrkprmRm983y22d5FaMsr8AAAAMACM8Q+ECVgAAAAHVBmqxJqEFsmUwIX//+jLAAAEYOZmhvsZ6AHPo7JD0LnbECoRmnVpb68UQcdRjNmCmHHvPza/4zGmqxbyEZtgOPewMJu8xc3X/X/jMwiODYxWHVZEByr783nQzvX7cV+H+pswQRVqhDIAAAAwASrpM8WjMfjUQAAABJQZ7KRRUsI/8AABa1K0R9r6w5hIn72IQuwU3DAxPfL5PUBItWHPnQAnY//K0j8n+sXkkKehgFW12pAMOWAAADACVqNIIx5lgQcQAAAEABnul0R/8AACOr+Ges3WyyaqBgANshb2WbgMTUqIbPLF+K8GMuEu+zoacMpoYJRV+kMOoWrcStBS8ffPJ4QJOAAAAASgGe62pH/wAABR8wllSqgA2ytPvp310CyoLmMNOjPM1iJqk856FD98IEQywsI0PgmwbgdbKfimLJ3e6pPcRcJDw86lIOxLIcywIOAAAAhUGa7kmoQWyZTBRMM//+nhAAAENiTiUAR2u02/6YzN8psRgJgtLQDxZCHa/xkiZAzmEcd9qcbkT6eDMUd4oLTUB2dpiXqNIYqQgkyZNERt/riCac7aePEmAkzuxTXs+3vAtSwMHeLhdWc7ynIxvb/xih9MCuYviyIsJFyf3gmabYgIEA04EAAABRAZ8Nakf/AAAisjT3D2VDySQEOzVT8gnsGF0ggBXHqfp5dy/9afzFC1bX6Bn2umOkAr64Xr5cwqivuIsvGhRqQ2lChUrr5F6dYCkww2OS4QEvAAAAe0GbEknhClJlMCGf/p4QAABFRSi0AcLfdxjhJZchD5hWYjNlJLCvIysqdPqAc2rq7/d38++KQoD/cTXQi5mrvz5gLNxX5xlGplSQde9NeaQi9QpIY2JvfuZdE0ym+7ODyrF2bKo+Zon454oPB7BaRixLXe4KhaYeqnhBSQAAAERBnzBFNEwj/wAAFrxDzHlRh5uQwF9T9FZ8BcmxxIR3bXAASyMb2dQPiY0G3pOM/JbBgDacJAFEAAADAABU9IYzfCA44AAAAD4Bn090R/8AAA2F1QSNucp8WmT+ZZM/TLsYH5NoOxUaACaThofh9mrw5dOlyC0TGJcAAAMAAAMAASJAOoBZQAAAAD8Bn1FqR/8AACO/BCdgRusKyVDkcD69KaO+ptIudPkWoAEyaArBordJ4f5SZrFj2RNJxfYAAAMAAFer/DLLAd0AAABtQZtWSahBaJlMCGf//p4QAABFUfVr40AVv1vsIm15qH1tJRgbXt6Cojqott7TOgSjKJ3yPXnpsqN0AXw1Z7bwdz0V2IXia03/3Z+l/Gnp/304T6whu7f/FRNvTBWGlk3GMCufYcfnpLXV4vlVYAAAAENBn3RFESwj/wAAFsifgDlgo5dWki5o7YrNYCIm9HOWrjPlAdNm4V1FucbIDjeMzGgrKQRoOvROfWHfgIVeSTC7G5JgAAAANAGfk3RH/wAAI7f/DqF0JT977HhGSO7+eFBEzlbBT7TZ+AD3rq1n5P/N8BXYNuUPYfJTkmEAAAAiAZ+Vakf/AAAjvwQn7gdoh/BgkIcRVX9ToLxg3Jux/kEqMAAAAGlBm5pJqEFsmUwIZ//+nhAAAEVBRoAKQVlxpPofPZC4bjF4/TNbtr3L04oLWyGNe77Z3oSK6NbUsgW1nwYlYsyjI+OsZNTYkwWrmBZFl4I53ze6mf0lqLRtOQSo+/U2UEt43oOINZSvKxUAAAA2QZ+4RRUsI/8AABa8Q80+j+KqRy0yqX/VN3J6qE5H4jgAJZGN1kR4IzDPPeaTtVWbVYmjjeKVAAAAHgGf13RH/wAADYf1UsqJKwklAD3DOqrBEZB9L2O2oAAAADEBn9lqR/8AACO/BCdjPFPPUBZnAHjPujEHF+c9ldwAJj0KCL6vjlY7wzkaJPygd3sxAAAAXUGb3kmoQWyZTAhn//6eEAAARVFJa4DSFWz3bEc1ONoobmME4eohGqaG2TBYkOXDsqWeEeNAAIoxfBUBPbb7Jen2H3lM8Zf5FiG/cYxu0rNBvT5b1m3tYneSai4UQAAAACpBn/xFFSwj/wAAFrUrRH0N6pXl3Blog4L+y81iLoQSO4izanq9yLqqpMEAAAA3AZ4bdEf/AAAjq/houhySu8MIiwiYAVvoU/YUPYq6QxvApN3wK02wQ6PUvjxelNb60Nhq1sRTkwAAACEBnh1qR/8AAAMB5qDPepztLbjHMfXeU7mHVZ7L3FeO36oAAAB0QZoCSahBbJlMCGf//p4QAABFTlbnD+i+73KwA6BvBZ6M5joqysL5J77A8TvxsuZZ4CFTlkPXPtqT6+oesRHD/VXKLhbq2TgO4mckIleeQ8H7aRfun0AfzJSK0ZyBkAGEFmwS1gJ2X03+E+z64ztw1Q/DSYAAAAAcQZ4gRRUsI/8AABa1K0NRfL0WZDHAbJZi1ohWzQAAACkBnl90R/8AACPDQBBg6KCMOPp0cIOuhEFNLb/TgAlJi+FDo+glqRgltwAAACMBnkFqR/8AACPHvcOWADjXvuE1eA5Uwe1IWgA+6VuxluIUEQAAAGpBmkZJqEFsmUwIZ//+nhAAAENgBiUAXvIC1BPLqE+yA469QiN2VqP99ii4kfN+V5kdaMYpA+r5g5pN0YHS0yPW520+Q3y96tl402adddFAV5NPZdIOMdgxWnz8sKlvnmAfINwPEJOqn/BAAAAAMUGeZEUVLCP/AAADATXkPNtxXMrJmQ8z3BMJT9x8IAH87zSjRm9VZZFli4fUp1GLLbMAAAAkAZ6DdEf/AAAjyGuxGLABxYNUynthHLJEAy3/s/aUq0ddvCghAAAAIwGehWpH/wAAAwHmK+zZndqKaZ8YxzwilCtgHTDl8XeHpc7dAAAASUGaikmoQWyZTAhn//6eEAAACfAwobwALRdxefn/wzANuEq3+ExBDepINmw2ywqa/KirwHfhOK5slIgWSr2SVdJAawaFcgNPZn0AAAAiQZ6oRRUsI/8AAAMDOMmfpVCzi7GE7o5o1apSUp97tW+ScAAAADIBnsd0R/8AAAUc9Y5Ws/27wKvhtaEPX8/ofCgAXFZh2idZJQxPMjd4dz2pjPiV73qggAAAABcBnslqR/8AAAUeVu2jI/Pl3ypy5eaDawAAAHNBms5JqEFsmUwIZ//+nhAAAENJbWADoG8LzMrk4sOU+mipp+/M9JkVIttm8+q1IrN5wRygJPqX706VbsWPEpKjrEfW7TkL05rVGELecFcUHsjKoDmeNVD1PYpU/3/8f7QkxvlOA4j36D2fuRBt+Y6zs562AAAAKEGe7EUVLCP/AAAWLFC12V00DuW7CJgNw8/ADCgoaKRsOhDkCkAzwgIAAAAbAZ8LdEf/AAANf09hfFGYzPi9tJsZwgAV5fj/AAAAMgGfDWpH/wAAIrI8r1RLg7+myy8n3bWzsAAW3V3D3Yz+lm3cNRTyALTLWpfOUbeFIRyRAAAAT0GbEkmoQWyZTAhn//6eEAAAGlkGCxz2Kk5kARS+pgKcxzfxbQLUqWvgDCGwL+eCMa1ZWbsTIDaFeZOZwE+T1OmPakGIIQKYQQvKosf6mEEAAAA1QZ8wRRUsI/8AAAhvGXFlHlKdXzKlfakmzOqtE7c5wAc0Ek2RAXCXLVxSgTitH3AZRBQuBUYAAAAtAZ9PdEf/AAAFHjItRcowSOSboibwVCtBPYlX8Tk/s5i/UAAfKcNDEX1Y7ylQAAAAMwGfUWpH/wAADYSVLJKjYURl/EYPnhogybGPSFbbURAAmYagI4xuU1/oKZo2dMt+oM72YQAAAG9Bm1ZJqEFsmUwIX//+jLAAAEQmRJBBp8PU/j/NAuE/4rwAOeAOz2TSZzVU0vNZz5h6eGbgfUPq9acC1iNhVxe3V8n5Q7UrK6RFqPTq3hyh5kMZ+SbNOuVdqgsvwmnYFKIpmn1e5WGIuShWSG0dx1gAAAAoQZ90RRUsI/8AABYsULS6pvqdXEwYKXsTOXfiPKni2nPLoGUxnGR5IAAAACUBn5N0R/8AACK4w8c0wrNmJy0eKxApc2jUFAAg6nux1tT/wKCBAAAAJQGflWpH/wAAIrI0/EqmM2nOcRhoDpX7BqQ8wDleekBhkKjYjZgAAABGQZuaSahBbJlMCF///oywAABEJeH3709h5CRrD8p0AF9b4Dkj/YJ+2Y90LFRSMqaXxTvq26iOQ2sMCzNEmX21kpVk8LS6YQAAADJBn7hFFSwj/wAAAwM5YM+3Nq+bpNqGm8IH7+IZ0MlACDulWoBcCZnZV1EV/z6hinfZgQAAAB0Bn9d0R/8AAAUc+Z68e50yvfO8Ir+9D4e1/OL4OAAAAC8Bn9lqR/8AACLHx5+HBh5KkNo0LnAZQFJx8AEQdCquZFrABipzLJUSgX4W/OIrZwAAAG1Bm9xJqEFsmUwUTDP//p4QAABFTmDI7doAX4xqogyVGWDGcC2flyc6wR9vBq4nCJO49kwft7X98znZVs4cR9Z7VRP4R21cX8TB2Sz6LnUnDQXi4bf/t+MOjmdQuD68WJRBv6EGkSAHS/hQr27IAAAAKwGf+2pH/wAAI78Lr/+OtHcDgAcbl29x2R7Sibb9TOhaCmVxT4HzEB/FnJEAAABWQZvgSeEKUmUwIZ/+nhAAAENtYDi2ACwUuLyfzgTMaRP/qH0SHl9lC7VeH8qU3FimzXAdKmhKQA6U9rpWMpgBqxqOztpdRX/ff/j9Jhwo4bm/c9jHGikAAAA/QZ4eRTRMI/8AABa7incjRuEABcUp/nwRjr9KI6OcHWep51BbFLLsLeDT3FhYKmnxt9p6DzzlicmvqnpNA7bgAAAALQGePXRH/wAAI8L/k2Z1fLZxr5aLngBFMIfG+1htGlkZwDY/S0FACQBEbfmbZgAAADABnj9qR/8AACOxzAlwXySN9RmVXPaC2ACIO0f1UnBGr8DNrG1eXexUB5oHFe3wxbMAAABtQZokSahBaJlMCGf//p4QAABFRUFZegB43z7ACgGcFo+spurDENw99grerK/WkjmZEyF1Qs0SE2rvD4j17YcGqEq1O1em2lW+CKQZrOeaqj6C8EqwU9n/Zy7BypBRpSf6CFotxaReUbsJhaU7gAAAADdBnkJFESwj/wAAFrw3gUhQ9rVcEGt+DgCHPHnRZyDxf36v74/K9Nx6vGC8R9KJRICqMpWbSB7NAAAAFwGeYXRH/wAAIqw9IurMJqNLirCgQF3AAAAAIAGeY2pH/wAAI7HMCW+pcNZ3SPp0OMecMSklJu4WgLZhAAAAXEGaaEmoQWyZTAhn//6eEAAARbpvPjByBVWKACcTTtTEO63wGNKL1b8X0iy3rvuwcT2r5oLiPpCElVnWazXVzvf9lkxACH1fnhbNc3soVQ9aj7YI1RQb8ccROv7BAAAAK0GehkUVLCP/AAAWvEPNtxdxLEtwDct1ztDmHTijJiIAQea71evMpheQSoEAAAAWAZ6ldEf/AAADAeWH2nWUkptBFG3MGQAAACABnqdqR/8AACO+6cJ5FmIfDACpu/kVaAZv47v1ByqJUAAAAGRBmqxJqEFsmUwIZ//+nhAAAENFitQAc1x+soTDQBVMxvvAKMULcAQreUfMMnv2uS0wIFX/t9WQKj/owan8n8z3FMLw6uMx6yowLxfQO96sXehX85/0QrdQbmmtJGH80frkPDmgAAAARUGeykUVLCP/AAAWd5Sr8Q3Jr/w0mIM2+Byvs18iGxHdb/nCCKrSFl1dcEKAWNqOSaiiyvwDKPEN87u+BTk8fGQh8PpvQQAAADIBnul0R/8AACOr+FkzoqC7HKGJkurBDelFe0oANoUznlsV45OAS7/4IYV7DQrNGrPsnAAAAB8BnutqR/8AACO/BCXsfXBCyva5QDEFO1ntXbOAuihgAAAAbUGa8EmoQWyZTAhf//6MsAAARBR04dHWWRNZ1MuE7+RRZiUSfQUSHK9mhGun0OzwNixRL0VB4sJGNK3oZaZ2X/zCnFPO2goA1PZa4lUqT1LAO/Vbk8kotQw/Jb67XydPs12uNNxgRpiHAjztdQUAAABCQZ8ORRUsI/8AABYlWU9CVXQAttb1WMgdsJZrQGXLzAhJ7MvUU+rikXiDJsn9Lte80o0Zud2JxUxrWz6WeQffbbO3AAAAJQGfLXRH/wAAIqw5B24bCFw/3R3jr0fnkXJtCsAC2s8L9quvjt0AAAAxAZ8vakf/AAANJb4PgAshL6UkEErZ282hwaQj0Um5lqA7ZyPVPXM24tFTh7gbJT22YAAAAF1BmzRJqEFsmUwIX//+jLAAAEQRAFZwA6QMR4Pvfw81pVuKcIRZ0SCz2rycy7ISMNfAmFnqCOxa01sPbP5RiKcXCtUtJHbvRsbtL6jYKKJSu2kQdUE2zuYXDm46LzEAAABUQZ9SRRUsI/8AABYrlJE2k76uMw+wJqdp/4a3M7h9tQksvr5DdfiRPx1DBEtOf3lfg7HtJuTlgjQNxAcSBE5Crb0lF84Y1PiWAAQVZ2bsUldL49sxAAAAOwGfcXRH/wAAIjf5N5Ts2vw2UqBXATlFE9lp0ZduszXUBexv4tgAlRY747PXH1BU3juJhAsrntisi1qVAAAAMAGfc2pH/wAAIq4zC/preUc1TuhLpM6GZT8U6kVwnkqngAeqY99e3tG3Lt0BH46SYAAAAFRBm3dJqEFsmUwIX//+jLAAABn5OmapAHTAyMpZC9KiptQfDmEH67G0DH+rbMyElnjmBslg/i2FHnMJugx1djO+GMwP1w6ARR3QW0YcWTcrjDE+el0AAAAlQZ+VRRUsI/8AAAgsCogmk5rQmNKeKub77DgnSGHmYnQGs6cjkgAAADUBn7ZqR/8AAAT5Pbir7ABLHm3951TQI1OzDSYnxDjHv5t0OWblia9v8OfbYASeJGgzUW1twQAAAHJBm7lJqEFsmUwUTDP//p4QAABDbWd9yuAI96temx37g9IXLoeaWezv6haBGN/8c7Gh7FIThpEcvgqzbEu+5BksTQjn0WgrEKFbPAPKONUMfTNuPbR5jBHL65gQ6/tph/m/1IL8s5A6DLQINoACronhA3sAAAAkAZ/Yakf/AAAisjJGmkuw1YHvnA0gjChSsN1CkNxxGNRQcZxYAAAAUEGb3UnhClJlMCGf/p4QAABDRSZvongNAP2YS+4WhimRgfl/4Jls9h6texj6UaR5I3O4WhpjmVfYWuLC76rf9laTZZ+laLi4+tzfwe9eG3TnAAAAOUGf+0U0TCP/AAAWLE5zQIATSfK9iT33YEUvcMV7LNblC2ZjrDoRwaXFF7Bp6nQazQf802cRFT/FvQAAACoBnhp0R/8AAA011GveIygABaf2/cZ8UwVZSwdeTneFbrW8IGI5+qM/70EAAAApAZ4cakf/AAAisirph3TT2d0QCjUEPwiITdR2ABNwBkQLpFJ4Sqo9HHEAAABaQZoBSahBaJlMCGf//p4QAABDZXFs/4twAjA3D3mzBQn11UcgmyK2bR5Dpty7ue/URHtXu9S5lDjyB5HDD4QwmgF9/JRuRByj8xMOvaRnrppgdp6TCDSOZlSAAAAAIEGeP0URLCP/AAAWd5SM6zhQ1KITq1G7H3oLpVWstXvQAAAAJwGeXnRH/wAAI6wY7XqkqAC0Z3D3fT7G+eq2XBMtIt/udCIwyZk96QAAABEBnkBqR/8AACO++KeA3yq3HwAAAFpBmkVJqEFsmUwIX//+jLAAAEQUXYmABNKVfgg0bHu1w2XjSGGC9dOcnVABOwGpaCsHtlHs0g8FCKt4B4835VL/7GyXN9apCUZ0igaP6jv9ElcLZEPV074EFusAAAA6QZ5jRRUsI/8AABbAkY3+Y70AIsXnxQL833bOCcKtzV33mEw5uizibDdBUG13IO13W20FHv08y63OmAAAAB4BnoJ0R/8AACOsCp/YJS9HLQBQroVgTt8d2Lw0IWEAAAAlAZ6Eakf/AAAisjI8m8Sj/TRL7TzDuZns/oAJeHjDsIU+Ra8JNwAAAEBBmohJqEFsmUwIZ//+nhAAAENFK1JACtUt3wnB6BTP2hXdgCRsQj/uFNru2QGAN34mjSiH6WIEDuY8JGsIq68hAAAAIkGepkUVLCP/AAAWLE5swtTZD2XJIATK8bUr/b44ZbTHHTEAAAAkAZ7Hakf/AAAivxrOZqPgAXDCHfa+XY57adtEgZ6PxcTEiBnwAAAAVEGazEmoQWyZTAhn//6eEAAAQzZx5NBHg8QjD+q2XFAKACgc8prqfJVLAxjOs5FPRvhDFMpdZFgRFvRxmkRMbpg1wtJOntvYUFFb/572IHyUoMHlgAAAADlBnupFFSwj/wAAFiVcGIjdGbZAAfzWNcM8f/AaW7jgBmreYJ1UTS12IBuTWA/xvD7VNyJzPpkrPBEAAAAoAZ8JdEf/AAAiw0CrUCNbD9y4QAXEwl7jLbjL7iMdnXWOzn4dybsJNgAAACEBnwtqR/8AAAT7MJZJT1E4MM3vZjdnjLLB6GMC0C+VPvQAAABBQZsQSahBbJlMCGf//p4QAABDRSV38GG/6+nVShBEStG+lWvkS9+/nr/T70AQ7+C0NIb5wWiXgUoUO53EzAdTkr8AAAA2QZ8uRRUsI/8AABYU+MjhMfYgAON20pAYD/v4ObdX7BW15s6uawJcVulKgevKqb/So/qulA2ZAAAANQGfTXRH/wAAIqw7CXx7UlWgNYyWvNnKfQk9VhmYqoqkAB+47x3XzEm+GmIs2m+s/L7yHBixAAAAIgGfT2pH/wAAIr8EJ2EajL3dsVO7jx7NxG/SarU8zZO9OOAAAAB8QZtUSahBbJlMCGf//p4QAABDuPPgk49gCD4//4fJGO9mjnMOdVu4S+yDbk48Vm+PPvudEh43z9UB50Fn9fJ1lCVZskJG1nptglYb/nT4vCIt4y/0jTmCEga1+SySRe3tMokVfRgFLUajPT9pIfM7jcZs/yGPEvselpg+MAAAACxBn3JFFSwj/wAAFhp1dmanac4uemf7vEC+XNxwUZjD9AiAG7CxlJd4I9ht6QAAABsBn5F0R/8AACLDQKhrEibEuqrQrMfy5VV8Hb0AAAAeAZ+Takf/AAAiODK8/PHKEFEAGo12CjVoydHZQHTAAAAAPkGbmEmoQWyZTAhn//6eEAAAAwAyfqJB4st9fGnJJgBou/qWaSeOz1WFm6Vl3viH1nVruQEx8253c+OO7hjjAAAAKUGftkUVLCP/AAADACtVoQAJ26imcyZYJ73Pjx0q65ax6xWdg49XOfxYAAAAGgGf1XRH/wAAAwBDhi7LvdtRGtEL2v9BkO3pAAAAGwGf12pH/wAAAwBDY5go3Fkw6V+/bLkWF5U1wQAAADhBm9xJqEFsmUwIZ//+nhAAAENFKlyAOYfcXn6CwvfmAvSgptYxg8tY2dos8z08LkqlxVs5gKveXAAAACtBn/pFFSwj/wAAFiUrOdvhACWqRODH7LEisdNlp8H68tWo1lI80HuC9hCxAAAAEQGeGXRH/wAAIsMXaKnFoALaAAAAGgGeG2pH/wAADS+2jqF9rQyv1qxq5pfcMJNhAAAAiEGaAEmoQWyZTAhn//6eEAAAQ1SrhcgDmAPvbwrT5zIVxv9tCQC5E9BfY+oV1EhKJbOKNjGilhJF17OmKygTsu7SWSOezl6M5e3qErLEa/6kAWytC3rCWwyS9Qst7a5zZeUNRNLYGlRhtcVb8z+klVnu6+jjOTJg8shVP1GxEB83J1nQYPr0qYEAAAA2QZ4+RRUsI/8AABYlKzJgYcl2SFp3csDLbMpRkSLkCCNPFIAH37K9Nz3Jehi5sre4/NL57viwAAAAJwGeXXRH/wAAIsMXaKnI1jxXmPvpExTt2khIYzOZBWqRQp0FYZT3oAAAAB8Bnl9qR/8AAA0k+HbDxSAC+T01porDS9fNE7JpJHHBAAAAXkGaREmoQWyZTAhn//6eEAAAQ0UlzLqki35vvab8Zl/hY4xXmh4nKEz8J5qVZVZDiCVxdaeYHCPblghHfwASo+SoOgcPbh//J0b8aaUl0eniFCELSSP52fQbVwjIdRgAAABAQZ5iRRUsI/8AABWcULb00fXP/xlfSIcePs4AEsWmjHbttYTDwAxdrTftKRVKW5RZmBEZj9B/rNafInP3BdPFgQAAACwBnoF0R/8AAAT0bsDKVvA2+oGYqp+ApNGwhVZFs3PNGgAaojcIoZwmnV4kmwAAACEBnoNqR/8AACKxzA02bbZQNaRteYjnVnDgRpbXCOf2Fs0AAABRQZqISahBbJlMCGf//p4QAABDSJcgCt+vC89VbOjQS52QzqzLuMkPFQ9cpXr9gEDWePBpPevZnLg7CXL7Jwzxjl3kHCc1rzOAgXp7GWo625FhAAAASEGepkUVLCP/AAAWJVhqugBbgSTRuWbLkHLudKlOillfOg/bFo3hGQ0xurbP5gCiWF8nftjD6ez/j0RZhXSihAYoBHm8TDJFvQAAAEYBnsV0R/8AACKsO4K22LZRx4rf4gAXGsIktD9Jk/WwGrRvjUBpA1IXhJrB5/7VYwJIKiNbTqEAh9X+63V7EOPx3jkV/S29AAAAKQGex2pH/wAADS+2jDc3tww1KaqrXDw0wANRny711/zF/e6uOdbzVhCwAAAASUGazEmoQWyZTAhn//6eEAAAQ0SRmwAdEnNXiO8j13wCyyuLyU6rZvrtxT2WYjcrASo5Sfyt5uj4Z+OUWqDQgg9BZS7jv/7dJIwAAAAyQZ7qRRUsI/8AABYrlFSx4+MfJCNTwqncDE3kGLFAf6Rde1QAgi4AoM77t8ooXDNIpIEAAAAbAZ8JdEf/AAAhw0ccA01V8SzwAxT6bg1iMtf4AAAAHgGfC2pH/wAAIr8ELFyZTDogj09yGw0RLmrrKAdl4AAAAGlBmxBJqEFsmUwIZ//+nhAAAENUrPg9lR89gAsFE8EQezpv/4JmiX2Tpujs7wh7TB2uXeMcAFLqVTkx3So1CWvs7kxaX6AkqrDbJEbRkjHuIxY/D+GoagKDSf/OT4d7EF+Rbjk3bMkqtykAAAA7QZ8uRRUsI/8AABYpM71A0vRY8pVACZYlBPCWclD6FGAirEHzXx5INVyBtBU8MJ+F1p74zkQ2AvQmSbEAAAAjAZ9NdEf/AAAiqc7FlCY2KrQzKoLncLMnf7nVpM+HcwfDb0EAAAAjAZ9Pakf/AAAiscwuKK6hs5ICgw3rjGzk3JWD5E4SY3Y/EdMAAABiQZtUSahBbJlMCGf//p4QAABDUQ4+eCqikJ1U7xfulytxIITjg+xYeqMqMYmw2s2PIC7cjcs8xIrGpaVukQxxphv/SS79fa/6BubtTiX/drKK6XD0ij6+mUydl8iezdnSy7AAAABHQZ9yRRUsI/8AABYwWfSRhOvMAvkbGVc6biL40yLjFJPINh2LC3IJ7CeuZjNl83EiEIEWlf/hAcq2ZgTiJ4yuo0t3+VIieCEAAAAiAZ+RdEf/AAAiwxdoqaVUNPqk3wiOZfqvIpZkd6DMfJnregAAAEkBn5NqR/8AACKxy/yO5QAON0KfrjbLiFtNO9DgwsXc5UmiNOxDVJUAVQKa7MQmL/V8HzzQrR6IgbIEKmD1Ni1b4m9VORceWO4IAAAAmkGbmEmoQWyZTAhn//6eEAAAQ7pvP7eR/aGJACuxHR95YKAWm6oCTuww0Y2IRo9L7LJMxd5GaAoZ80RbO9tqEod+aSp57XzunPqlOmyIBdZxtOi9JkODXQRjPoF3hvEYKShvXAuSC9buzVJ/YEGe6P+0YAoswaYzXo0FuhNt+pbexTpYrTF+mKCrIu1Y8LumsH+zSEEnkbgyWh8AAAA6QZ+2RRUsI/8AABXnko0KgEcACvUmuO6CB+m+Z9zVczTvIhjPxLeLnIGXiQmOx/7SkCrA1tlmjQ0NvQAAADcBn9V0R/8AACKr55JC6FoKNrDkFBc3c6VEth2vcY+AWAeMEhoANoFH7nX9G3fV4/KseApROnghAAAAMgGf12pH/wAAIr8EIAUxD1NuRIJl5KTlPt6ECWsCOz4DE/26DAA1I4lsA23IecXfeKSBAAAAaEGb3EmoQWyZTAhn//6eEAAAQURqc6g8g/57Gifg+1WdKLGgMKL8DdoACw+vBZ2A1xTnOd/B3iP488MlcLCplhroOsqw95ZgqNiflszYaS+ozwiB2Q4HH5mlhlJJaEyTDvSmz4EFnTcqAAAATUGf+kUVLCP/AAAVkyySUYUeYrYywDBvRzF2saQBOzscGM9zv7M6gABOMQoUInMfrEINQ0Q6hxsGAdI8kUe0x4vwy3E9GFjiPmvJ2KeLAAAAKwGeGXRH/wAAIcM7+Dfmi5icwCh88WbaXlDKaeh9pUSWnBOAyNz9TcTP+mAAAAA7AZ4bakf/AAAhvxpud5s8ZMPDLmGyPKDyjXXU97XG06QqX1VHEfTRZdPACS+17JaDsAIfvNgj2uYjW9EAAABcQZoASahBbJlMCGf//p4QAABBRGpzdemc9JTV1wXGwTjoyH93uPPK+FHtWvJb/fJsqiIWMSe04C5pxG9wAN3lquWfudBA9gXNRIAktwhFrYZSRvdqSMTL+QYWUO0AAABDQZ4+RRUsI/8AABWTLGoH8DG90I7AYNox+tboQoXKDAfuba6+I9l0vDahHH8GSrGeB1wWaCAD8PGmbnc+lmxX0s0eCAAAAC8Bnl10R/8AACHDORxifRrsl4lDINyMqJ14tuTQmVEPjiol/HOa5oBKxuZguQC3oAAAAC8Bnl9qR/8AACG/GI5qc73MeJMoPhzbhtSVX3ypLNCE+Y/7cggBRZymh+vFlH2IWQAAAHVBmkRJqEFsmUwIZ//+nhAAAEFkB1Pa4AaYvkfjhV+p+i4OlGfCbkPk2HuP0iqyUHoEfiESIzTbHEpQWDKOxqUerhXIfGG6k/bMBRCE9AI4lVnb4FSoiyWjQIzyrW+BbG/bvNPIFrQhPirHxPMdWyyjR7/E264AAAA9QZ5iRRUsI/8AABWSnwnSx1VAAN1YptBIDHuikXWj7UqK2D6ozUi3y7HjFYuDolqe4QIf4wh8PSPbzzOYVQAAADABnoF0R/8AAAzlAAwJD4gssE5fWK1DRIPimK9ROqSvotC/BH/FgAExePw+7I/6nb0AAABBAZ6Dakf/AAAhrjEvz9F7yEABcMAu8GVLBRvZZNCtS788S3xIIWIEkSlQBgXrk730L7ifv3//NgJQ8dJxT6lx+OEAAABwQZqISahBbJlMCGf//p4QAABBQ5g3gAsPrwvTZ1x1h87AGNa+FvqlkEAH+TOsPPJ1LCoVonOQ0aNZtu3gsmZOvlSKrRSt4dfwMd9s8GTU3+xEgdaBg4HV0gZeus1O7fjifiFYH0ZwN1yHU9Fea1Tm3wAAAElBnqZFFSwj/wAAFZuUVLGWRmDE7FSJMacj9KhDyzDUj9Ov+BVmgY3ADSC1UoV6odpeEzEBmZzmLTscwODDJwHXW+BmO/vQuVxxAAAANwGexXRH/wAAIcMXYrAaAAXNtj+H2LOX9xcYQgsKhYiM//yByoBpGFdE4uG1O5V219WGcVqW60cAAABAAZ7Hakf/AAAhvZWtuqRhCFsOlOPUi7kmHT5sbV3+MtlBi1dRcZsYS6RdABNXQp8U3nqDdJUiKXysATJrpzfkwAAAAFtBmsxJqEFsmUwIZ//+nhAAAEFD1U1bKctAF3IQ9gedQihT/9sIGdv98G7Y/zq9fLY2fTSG/nze3OwA+MSodURLUnfMG/icrmllA/oQtvLbEbtBcOaBlZ3qAWkoAAAAUUGe6kUVLCP/AAAVm19h4izngCeOFfZHcnhQqnbD+B2ALKne2eCSyPJmTBrElmu6fegY4pGbgACcbG9pHctr+mO49L7Aq22dg465IUoeLpCeSQAAADEBnwl0R/8AACHAuN/ApaXQypezyYxdWYGNSd9j/o+Go+A7Aee+xieC7OjI6gFESW3HAAAANwGfC2pH/wAAIb2VrbpsOHKJdsLYDpOK6Bp/JTs5fDgJ4id1FxuYnB/IlH31InbYOLTIUW1dgioAAABiQZsQSahBbJlMCGf//p4QAABBum86ziQdIy0nrsgovcVL60h8ToPGeAn7F7pxkqvt4jTAC61pf+u8M+RRHi9aLR/FPcQtFqz/b1BPrA1GF6d2J0SieSuz/tzHN1lUGZDd1EEAAABGQZ8uRRUsI/8AABWVJf1MyuICLPFbJtWDd9bRQPhjMBsJU1ByQ3FgHUHRYVYtFwCU4AW4Ob2otV8KEL/UBVT2JVCd2p/JgQAAADkBn010R/8AACGr9JRsAABpN1OHQRYdedyN1JgGcJmcf1ooCnic0AGz6Qw+jMpSZgZeS3wCEOuc7jkAAAAvAZ9Pakf/AAAgrjMFJMVLvdcFsVsiGkUEkbM/9Dv3SQVKeCbvC/1Q36bbqIJdeTAAAABbQZtUSahBbJlMCGf//p4QAAA/dg8t4tqy8YBk0wxw/tzAaBwtzNaPu/dURgG2AkE3kugDy2ul4xbOnuC1LzxiVlryiYh6mp17uztcVkCYDaS464waEXt+zhxk4AAAADZBn3JFFSwj/wAAFQtfgrV6R9XFOStko0c96mVyrAMV+TswagsOqaS9BzznJFqP8bG0G1W1GUcAAAAqAZ+RdEf/AAAgwLmVt9XKVUn1fd3ngMYZylsFqRgakp+4mK964asARVa4AAAAOAGfk2pH/wAAIK4zBSRcbsqFbShfLgbvdj1byAqR6MK0pr9pHdNIAP2zdtGIpLfiw7NUIh39Jg7YAAAAe0GbmEmoQWyZTAhf//6MsAAAQAFYGDACwKvNPI38rofIiEL8gKKTXUo2VJPTKsQLywHdELje5pFAbklVHGcDQFr9NvuyapyPAZpRD61xyQFXuXHOqvQ/t1aNo/4vREOoqXX73s4ZR7efVkY2YeoBQWm/EzaEGvY7E94YeQAAAEtBn7ZFFSwj/wAAFPgGyFLs0ovwczDcba3H7IQGly4ZBo3TvT070bqwmbiBtmzrNQw42P+iGytEEtiNXnYbyL9nbf545Lzcge7VnpgAAABGAZ/VdEf/AAAgqc9UztTCahuyqSZBlIk8+AAWyTGiecCWTey2o4E1OL6aNeX1a1V0pshaeB8iCS3YCdwPFZTTJxqlHJjD4QAAADsBn9dqR/8AACCuMS/ReUSYnAA12H72YeET8zBfG3VBu8ALeILfWDwUbk23LFn0wda8HecGgSZANCVSPwAAAG5Bm9xJqEFsmUwIX//+jLAAAEABY7OkqM4cToAcRjgHVDu1DjOa8tQAYvpBWpgyPOLTs0O+d4KpwUdYZZLBJiTHSQ1tX+ZkcQG9iaYjgK4h/QeOASyDhx4xkmnmaTT5ya10ko8yhD63o8hDK1+BsAAAADJBn/pFFSwj/wAAFRA5t3iLWdMMU9TrxCaI8GUYJr7Iqzz8WP0YDn982tpnbE8IgDwemQAAACwBnhl0R/8AACCpozM7Ldz2GciR6arAJb8B2kzV7DATIoKhrbj3SEMLPI10wAAAADEBnhtqR/8AACC9lgKJuXltGoASynm+mlMgwikv33dH+MrQ83S/CXHmgzeWAxQ9Cz3TAAAAhEGaAEmoQWyZTAhf//6MsAAAQHpvP2xu4QW1Sk4fNQAg/hS2DmIdprkeKFd+URr+WdvyvQEf1ZCPHB0GRJ6TnSfekK4tuJ99RLRRm9y3iynKQJfI3TInkVkqAEEUfv2Ofjg/xRmrdxzmve0oH0oE3/CE/MAsDG/9ZlXDCiSyWw35FHAYYQAAADZBnj5FFSwj/wAAFQUk4q2XVaAxAIFBXX4URWF+Qd5ngbzQG29knagFM39aP+97v6Ap4EacrpgAAABEAZ5ddEf/AAAgq9bYWh+Ste9QO9nBABFVpkthuHUcg3jWQI5CdYEDBiJ0Zzzsl+Q2regWl5NZBk/PCkMq0fy6RhcT5sAAAAA6AZ5fakf/AAAfuO4GqEGy9SI+ABaM4+ib8AA2awgEEWXr2Y/HkQaQ9VGBzgEpUljao61ddcfyDJgswQAAAHVBmkNJqEFsmUwIV//+OEAAAPJi7PywAcR8gMDu8dfNaS5xWxG8EE/+q6jsFpMnkV0+93mLKqOxFmrOA1VV+VUeroNLn/qGrE/fzUo7CsEPM3YNf0gW20dKaIqMJ2Dh8KvjryaUY9RMFqe4L6/jUmXDZBpIG3AAAAA+QZ5hRRUsI/8AABR7lFg7IXK5HJMQH+6T2NvzXeAE9U7P+BhOEKmQLN3hJaKBaXRK2XF8fznXl0GujLN4XTEAAABCAZ6Cakf/AAAfZW64MajtHJZKh2hasvF8TRLj4/exeCghx7iCcoaLmI0X+ssxTdZEAJUnvo31V47IpF7h+Ad0C0umAAAAXUGah0moQWyZTAhH//3hAAADA7noy6P/VV9iCYAAHGxIR7Tr+r66pMDxcP+BHVWl20FK3F2GiC65NFz2h9Yffadd/gza9R/R/rY9HkDuPczeLJIWAQYHETmwCwWa6QAAAFJBnqVFFSwj/wAAFHH9qBw/vEkRzl0meUPXINI7UL/ox6HGkdn9xZKuiVH49FUU3WfXoPVN4nKHXGAC6BxtdEa3x1FM1IADNRlPcDlpNwI5BZSBAAAAOQGexHRH/wAAH7ZzTR+1ldSWPaa2aycZsFuif7mvijiKiLgbAp1eKbB+WYSVBX4Lyx0h0Vq6YOiNsQAAAEMBnsZqR/8AAB+5HxfTGd1z4YaC/2JLd7ZBdnc85VhYiW/TQehFI84WgAmse9NiFcl4hH97kORG/dvpUvhIJOy5Lu6BAAAAQkGayEmoQWyZTAj//IQAAA4hoRlbb1qzckIbzeFYOnBcadhCGZQfnEQN9ye4DOd3ePKaCG8zhhYDHbUCntxJZA+O6AAADGdtb292AAAAbG12aGQAAAAAAAAAAAAAAAAAAAPoAAAPtAABAAABAAAAAAAAAAAAAAAAAQAAAAAAAAAAAAAAAAAAAAEAAAAAAAAAAAAAAAAAAEAAAAAAAAAAAAAAAAAAAAAAAAAAAAAAAAAAAAAAAAACAAALkXRyYWsAAABcdGtoZAAAAAMAAAAAAAAAAAAAAAEAAAAAAAAPtAAAAAAAAAAAAAAAAAAAAAAAAQAAAAAAAAAAAAAAAAAAAAEAAAAAAAAAAAAAAAAAAEAAAAACWAAAAZAAAAAAACRlZHRzAAAAHGVsc3QAAAAAAAAAAQAAD7QAAAIAAAEAAAAACwltZGlhAAAAIG1kaGQAAAAAAAAAAAAAAAAAADIAAADJAFXEAAAAAAAtaGRscgAAAAAAAAAAdmlkZQAAAAAAAAAAAAAAAFZpZGVvSGFuZGxlcgAAAAq0bWluZgAAABR2bWhkAAAAAQAAAAAAAAAAAAAAJGRpbmYAAAAcZHJlZgAAAAAAAAABAAAADHVybCAAAAABAAAKdHN0YmwAAACYc3RzZAAAAAAAAAABAAAAiGF2YzEAAAAAAAAAAQAAAAAAAAAAAAAAAAAAAAACWAGQAEgAAABIAAAAAAAAAAEAAAAAAAAAAAAAAAAAAAAAAAAAAAAAAAAAAAAAAAAAAAAY//8AAAAyYXZjQwFkAB//4QAZZ2QAH6zZQJgz5eEAAAMAAQAAAwBkDxgxlgEABmjr48siwAAAABhzdHRzAAAAAAAAAAEAAADJAAABAAAAABRzdHNzAAAAAAAAAAEAAAABAAAGQGN0dHMAAAAAAAAAxgAAAAEAAAIAAAAAAQAABQAAAAABAAACAAAAAAEAAAAAAAAAAQAAAQAAAAABAAAFAAAAAAEAAAIAAAAAAQAAAAAAAAABAAABAAAAAAEAAAUAAAAAAQAAAgAAAAABAAAAAAAAAAEAAAEAAAAAAQAAAwAAAAABAAABAAAAAAEAAAUAAAAAAQAAAgAAAAABAAAAAAAAAAEAAAEAAAAAAQAABQAAAAABAAACAAAAAAEAAAAAAAAAAQAAAQAAAAABAAAFAAAAAAEAAAIAAAAAAQAAAAAAAAABAAABAAAAAAEAAAUAAAAAAQAAAgAAAAABAAAAAAAAAAEAAAEAAAAAAQAABQAAAAABAAACAAAAAAEAAAAAAAAAAQAAAQAAAAABAAAFAAAAAAEAAAIAAAAAAQAAAAAAAAABAAABAAAAAAEAAAUAAAAAAQAAAgAAAAABAAAAAAAAAAEAAAEAAAAAAQAABQAAAAABAAACAAAAAAEAAAAAAAAAAQAAAQAAAAABAAAFAAAAAAEAAAIAAAAAAQAAAAAAAAABAAABAAAAAAEAAAUAAAAAAQAAAgAAAAABAAAAAAAAAAEAAAEAAAAAAQAABQAAAAABAAACAAAAAAEAAAAAAAAAAQAAAQAAAAABAAADAAAAAAEAAAEAAAAAAQAABQAAAAABAAACAAAAAAEAAAAAAAAAAQAAAQAAAAABAAAFAAAAAAEAAAIAAAAAAQAAAAAAAAABAAABAAAAAAEAAAUAAAAAAQAAAgAAAAABAAAAAAAAAAEAAAEAAAAAAQAABQAAAAABAAACAAAAAAEAAAAAAAAAAQAAAQAAAAABAAAFAAAAAAEAAAIAAAAAAQAAAAAAAAABAAABAAAAAAEAAAUAAAAAAQAAAgAAAAABAAAAAAAAAAEAAAEAAAAAAQAABAAAAAACAAABAAAAAAEAAAMAAAAAAQAAAQAAAAABAAAFAAAAAAEAAAIAAAAAAQAAAAAAAAABAAABAAAAAAEAAAUAAAAAAQAAAgAAAAABAAAAAAAAAAEAAAEAAAAAAQAABQAAAAABAAACAAAAAAEAAAAAAAAAAQAAAQAAAAABAAAEAAAAAAIAAAEAAAAAAQAABQAAAAABAAACAAAAAAEAAAAAAAAAAQAAAQAAAAABAAAFAAAAAAEAAAIAAAAAAQAAAAAAAAABAAABAAAAAAEAAAUAAAAAAQAAAgAAAAABAAAAAAAAAAEAAAEAAAAAAQAABQAAAAABAAACAAAAAAEAAAAAAAAAAQAAAQAAAAABAAAFAAAAAAEAAAIAAAAAAQAAAAAAAAABAAABAAAAAAEAAAUAAAAAAQAAAgAAAAABAAAAAAAAAAEAAAEAAAAAAQAABQAAAAABAAACAAAAAAEAAAAAAAAAAQAAAQAAAAABAAAFAAAAAAEAAAIAAAAAAQAAAAAAAAABAAABAAAAAAEAAAUAAAAAAQAAAgAAAAABAAAAAAAAAAEAAAEAAAAAAQAABQAAAAABAAACAAAAAAEAAAAAAAAAAQAAAQAAAAABAAAFAAAAAAEAAAIAAAAAAQAAAAAAAAABAAABAAAAAAEAAAUAAAAAAQAAAgAAAAABAAAAAAAAAAEAAAEAAAAAAQAABQAAAAABAAACAAAAAAEAAAAAAAAAAQAAAQAAAAABAAAFAAAAAAEAAAIAAAAAAQAAAAAAAAABAAABAAAAAAEAAAUAAAAAAQAAAgAAAAABAAAAAAAAAAEAAAEAAAAAAQAABQAAAAABAAACAAAAAAEAAAAAAAAAAQAAAQAAAAABAAAFAAAAAAEAAAIAAAAAAQAAAAAAAAABAAABAAAAAAEAAAUAAAAAAQAAAgAAAAABAAAAAAAAAAEAAAEAAAAAAQAABQAAAAABAAACAAAAAAEAAAAAAAAAAQAAAQAAAAABAAAFAAAAAAEAAAIAAAAAAQAAAAAAAAABAAABAAAAAAEAAAUAAAAAAQAAAgAAAAABAAAAAAAAAAEAAAEAAAAAAQAABQAAAAABAAACAAAAAAEAAAAAAAAAAQAAAQAAAAABAAAEAAAAAAIAAAEAAAAAAQAABQAAAAABAAACAAAAAAEAAAAAAAAAAQAAAQAAAAABAAACAAAAABxzdHNjAAAAAAAAAAEAAAABAAAAyQAAAAEAAAM4c3RzegAAAAAAAAAAAAAAyQAABIsAAAC1AAAAQwAAAEwAAAAmAAAAVgAAADUAAAAwAAAANQAAAHkAAABNAAAARAAAAE4AAACJAAAAVQAAAH8AAABIAAAAQgAAAEMAAABxAAAARwAAADgAAAAmAAAAbQAAADoAAAAiAAAANQAAAGEAAAAuAAAAOwAAACUAAAB4AAAAIAAAAC0AAAAnAAAAbgAAADUAAAAoAAAAJwAAAE0AAAAmAAAANgAAABsAAAB3AAAALAAAAB8AAAA2AAAAUwAAADkAAAAxAAAANwAAAHMAAAAsAAAAKQAAACkAAABKAAAANgAAACEAAAAzAAAAcQAAAC8AAABaAAAAQwAAADEAAAA0AAAAcQAAADsAAAAbAAAAJAAAAGAAAAAvAAAAGgAAACQAAABoAAAASQAAADYAAAAjAAAAcQAAAEYAAAApAAAANQAAAGEAAABYAAAAPwAAADQAAABYAAAAKQAAADkAAAB2AAAAKAAAAFQAAAA9AAAALgAAAC0AAABeAAAAJAAAACsAAAAVAAAAXgAAAD4AAAAiAAAAKQAAAEQAAAAmAAAAKAAAAFgAAAA9AAAALAAAACUAAABFAAAAOgAAADkAAAAmAAAAgAAAADAAAAAfAAAAIgAAAEIAAAAtAAAAHgAAAB8AAAA8AAAALwAAABUAAAAeAAAAjAAAADoAAAArAAAAIwAAAGIAAABEAAAAMAAAACUAAABVAAAATAAAAEoAAAAtAAAATQAAADYAAAAfAAAAIgAAAG0AAAA/AAAAJwAAACcAAABmAAAASwAAACYAAABNAAAAngAAAD4AAAA7AAAANgAAAGwAAABRAAAALwAAAD8AAABgAAAARwAAADMAAAAzAAAAeQAAAEEAAAA0AAAARQAAAHQAAABNAAAAOwAAAEQAAABfAAAAVQAAADUAAAA7AAAAZgAAAEoAAAA9AAAAMwAAAF8AAAA6AAAALgAAADwAAAB/AAAATwAAAEoAAAA/AAAAcgAAADYAAAAwAAAANQAAAIgAAAA6AAAASAAAAD4AAAB5AAAAQgAAAEYAAABhAAAAVgAAAD0AAABHAAAARgAAABRzdGNvAAAAAAAAAAEAAAAwAAAAYnVkdGEAAABabWV0YQAAAAAAAAAhaGRscgAAAAAAAAAAbWRpcmFwcGwAAAAAAAAAAAAAAAAtaWxzdAAAACWpdG9vAAAAHWRhdGEAAAABAAAAAExhdmY1Ny44My4xMDA=\" type=\"video/mp4\" />\n",
              "             </video>"
            ],
            "text/plain": [
              "<IPython.core.display.HTML object>"
            ]
          },
          "metadata": {
            "tags": []
          }
        }
      ]
    }
  ]
}
